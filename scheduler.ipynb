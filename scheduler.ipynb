{
 "cells": [
  {
   "cell_type": "markdown",
   "id": "ed9fd2d0-cbbd-45e7-920f-5a193899adac",
   "metadata": {
    "jp-MarkdownHeadingCollapsed": true
   },
   "source": [
    "## Import packages"
   ]
  },
  {
   "cell_type": "code",
   "execution_count": 3,
   "id": "cdb4d98b-ecbc-47c7-9cb3-06421185202d",
   "metadata": {},
   "outputs": [],
   "source": [
    "import pandas as pd\n",
    "import random\n",
    "from collections import Counter\n",
    "from itertools import combinations\n",
    "from openpyxl import load_workbook\n",
    "from openpyxl.styles import PatternFill"
   ]
  },
  {
   "cell_type": "markdown",
   "id": "6bd5078f-e033-4f54-aa39-717b267f057c",
   "metadata": {
    "jp-MarkdownHeadingCollapsed": true
   },
   "source": [
    "## Define Functions"
   ]
  },
  {
   "cell_type": "markdown",
   "id": "b4960665-2cf9-41f1-8581-bed417cc5fe1",
   "metadata": {
    "jp-MarkdownHeadingCollapsed": true
   },
   "source": [
    "### Read Files"
   ]
  },
  {
   "cell_type": "code",
   "execution_count": 6,
   "id": "a4058a9b-7fcd-42b9-ab24-6c2325e693ec",
   "metadata": {},
   "outputs": [],
   "source": [
    "# read files\n",
    "def read_file(fname='24FALL_USC_OPEN_TEST.xlsx'):\n",
    "    f = pd.read_excel(fname, engine='openpyxl')\n",
    "    return f"
   ]
  },
  {
   "cell_type": "markdown",
   "id": "bc910b74-61e8-439a-b0e2-359ca2fb86fe",
   "metadata": {
    "jp-MarkdownHeadingCollapsed": true
   },
   "source": [
    "### Get Match Information"
   ]
  },
  {
   "cell_type": "code",
   "execution_count": 8,
   "id": "f1501919-8b3e-4678-8cc3-fc27807ab557",
   "metadata": {},
   "outputs": [],
   "source": [
    "# split player names, compute weights\n",
    "# match = [team1_names, team2_names, category, flight, weight]\n",
    "def get_match_info(f):\n",
    "    # get all player's name\n",
    "    player1s = f['team1'].tolist()\n",
    "    player2s = f['team2'].tolist()\n",
    "    categories = f['category'].tolist()\n",
    "    flights = f['flight']\n",
    "            \n",
    "    # analyze each player's name and their total games\n",
    "    players = {}\n",
    "    matches = []\n",
    "    for player1, player2, category, flight in zip(player1s, player2s, categories, flights):\n",
    "        # men's single, women's single\n",
    "        if category == \"MS\" or category == \"WS\":\n",
    "            players[player1] = players.get(player1, 0) + 1\n",
    "            players[player2] = players.get(player2, 0) + 1\n",
    "            matches.append([[player1], [player2], category, flight])\n",
    "        # men's doubles, women's double, mixed doubles\n",
    "        else:\n",
    "            p1s = [p.strip() for p in player1.strip().split('/')]\n",
    "            # print(p1s)\n",
    "            for p in p1s:\n",
    "                players[p] = players.get(p, 0) + 1\n",
    "            p2s = [p.strip() for p in player2.strip().split('/')]\n",
    "            # print(p2s)\n",
    "            for p in p2s:\n",
    "                players[p] = players.get(p, 0) + 1\n",
    "            matches.append([p1s, p2s, category, flight])\n",
    "            \n",
    "    # compute weight of each match\n",
    "    for m in matches:\n",
    "        if m[2] == \"MS\" or m[2] == \"WS\":\n",
    "            m.append(players[m[0][0]] + players[m[1][0]])\n",
    "        else:\n",
    "            total = 0\n",
    "            for p in m[0]:\n",
    "                total += players[p]\n",
    "            for p in m[1]:\n",
    "                total += players[p]\n",
    "            m.append(total / 2)\n",
    "    return matches"
   ]
  },
  {
   "cell_type": "markdown",
   "id": "fae0af3c-8062-4b69-a053-699b14ae0c54",
   "metadata": {
    "jp-MarkdownHeadingCollapsed": true
   },
   "source": [
    "### Calculate and Update Weights"
   ]
  },
  {
   "cell_type": "code",
   "execution_count": 10,
   "id": "6e02f8fe-c020-48af-88f5-8648fd95db6e",
   "metadata": {},
   "outputs": [],
   "source": [
    "def count_player_matches(matches):\n",
    "    counter = Counter()\n",
    "    for m in matches:\n",
    "        for p in m[0] + m[1]:\n",
    "            counter[p] += 1\n",
    "    return counter\n",
    "\n",
    "def calc_weight(match, player_counts):\n",
    "    p1s, p2s = match[0], match[1]\n",
    "    if len(p1s) == 1 and len(p2s) == 1:  # single\n",
    "        return player_counts[p1s[0]] + player_counts[p2s[0]]\n",
    "    else:  # doubles\n",
    "        return (sum(player_counts[p] for p in p1s) + sum(player_counts[p] for p in p2s)) / 2\n",
    "\n",
    "def update_weights(matches, player_counts):\n",
    "    for match in matches:\n",
    "        match[4] = calc_weight(match, player_counts)\n",
    "    return matches\n",
    "\n",
    "def update_remaining_weights(matches):\n",
    "    \"\"\"update remaining weights based on each player's remaining matches\"\"\"\n",
    "    player_counts = {}\n",
    "    # calculate the remaining match for each player\n",
    "    for match in matches:\n",
    "        for p in set(match[0]) | set(match[1]):\n",
    "            player_counts[p] = player_counts.get(p, 0) + 1\n",
    "    \n",
    "    # update weight of each match (match weight = weight of team 1 + weight of team 2)\n",
    "    updated_matches = []\n",
    "    for match in matches:\n",
    "        players = set(match[0]) | set(match[1])\n",
    "        new_weight = sum(player_counts.get(p, 0) for p in players)\n",
    "        updated_match = (*match[:-1], new_weight)\n",
    "        updated_matches.append(updated_match)\n",
    "    return updated_matches"
   ]
  },
  {
   "cell_type": "markdown",
   "id": "69f51168-15a7-4a8c-9ee6-a90955428e54",
   "metadata": {
    "jp-MarkdownHeadingCollapsed": true
   },
   "source": [
    "### Print Sorted match. Sorted by Weights, descending order"
   ]
  },
  {
   "cell_type": "code",
   "execution_count": 12,
   "id": "035f52d5-71dd-441d-8c40-c17b1b791dc1",
   "metadata": {},
   "outputs": [],
   "source": [
    "def print_sorted_match(matches):\n",
    "    sorted_match = sorted(matches, key=lambda x:x[4], reverse=True)\n",
    "    print('='*100)\n",
    "    print('Sorted match:')\n",
    "    for m in sorted_match:\n",
    "        print(m)\n",
    "    print('='*100)"
   ]
  },
  {
   "cell_type": "markdown",
   "id": "15bcd364-4a2e-4a09-a479-d305de12b771",
   "metadata": {
    "jp-MarkdownHeadingCollapsed": true
   },
   "source": [
    "### Greedy Algorithm to select the match\n",
    "add monte carlo randomness. Select matches randomly from the candidate pool."
   ]
  },
  {
   "cell_type": "code",
   "execution_count": 14,
   "id": "da360de3-8185-4a5c-b955-e20dcc062084",
   "metadata": {},
   "outputs": [],
   "source": [
    "# GREEDY ALGORITHM\n",
    "def scheduler(matches, total_court, monte_carlo=False):\n",
    "    batches = []\n",
    "    prev_batch_players = set()\n",
    "    \n",
    "    while matches:\n",
    "        # weight\n",
    "        matches_sorted = sorted(matches, key=lambda m: -m[4])  \n",
    "        \n",
    "        batch = []\n",
    "        players_in_batch = set()\n",
    "        remaining = []\n",
    "        candidates = []  \n",
    "        \n",
    "        # collect the valid matches, and put them into the candidate pool \n",
    "        for match in matches_sorted:\n",
    "            p1s, p2s = set(match[0]), set(match[1])\n",
    "            if (not (p1s & players_in_batch) and \\\n",
    "                not (p2s & players_in_batch) and \\\n",
    "                not (p1s & prev_batch_players) and \\\n",
    "                not (p2s & prev_batch_players)):\n",
    "                candidates.append(match)\n",
    "            else:\n",
    "                remaining.append(match)\n",
    "        \n",
    "        # Monte Carlo, randomly fill the batch\n",
    "        while len(batch) < total_court and candidates:\n",
    "            if monte_carlo:\n",
    "                # randomly choose one match\n",
    "                selected = random.choice(candidates)\n",
    "            else:\n",
    "                # original greedy algo, pick the highest weight match\n",
    "                selected = candidates[0]  \n",
    "            \n",
    "            batch.append(selected)\n",
    "            candidates.remove(selected)\n",
    "            # update players in batch\n",
    "            players_in_batch.update(selected[0])\n",
    "            players_in_batch.update(selected[1])\n",
    "            \n",
    "            # dynamically update the candidate pool: remove confilct match, add new candidates\n",
    "            new_candidates = []\n",
    "            for candidate in candidates:\n",
    "                cp1, cp2 = set(candidate[0]), set(candidate[1])\n",
    "                if not (cp1 & players_in_batch or cp2 & players_in_batch):\n",
    "                    new_candidates.append(candidate)\n",
    "                else:\n",
    "                    remaining.append(candidate)\n",
    "            candidates = new_candidates\n",
    "        \n",
    "        # if this batch can't schedule any match, then return\n",
    "        if not batch:\n",
    "            break\n",
    "            \n",
    "        batches.append(batch)\n",
    "        prev_batch_players = players_in_batch\n",
    "        matches = remaining + candidates  # the remaining match will go into next round\n",
    "        matches = update_remaining_weights(matches)  # update weights\n",
    "\n",
    "    \n",
    "    \n",
    "    return fit_remaining_into_batch(batches, matches, total_court)\n"
   ]
  },
  {
   "cell_type": "code",
   "execution_count": 15,
   "id": "50acdc71-031e-4382-9a42-74af7230ed0a",
   "metadata": {},
   "outputs": [],
   "source": [
    "# fit the remaining match into batch that are not full\n",
    "def fit_remaining_into_batch(batches, remaining, total_court, monte_carlo=True):\n",
    "    if not remaining:\n",
    "        return batches, remaining, 0\n",
    "    \n",
    "    player_last_batch = {}\n",
    "    total_inserted = 0\n",
    "\n",
    "    # initialize the last batch of each player\n",
    "    for batch_idx, batch in enumerate(batches):\n",
    "        for match in batch:\n",
    "            for player in set(match[0]) | set(match[1]):\n",
    "                player_last_batch[player] = batch_idx\n",
    "\n",
    "    while True:\n",
    "        inserted_this_round = False\n",
    "\n",
    "        # update weights and sort by weight (large -> small)\n",
    "        remaining = update_remaining_weights(remaining)\n",
    "        remaining = sorted(remaining, key=lambda x: -x[4])\n",
    "\n",
    "        for batch_idx, batch in enumerate(batches):\n",
    "            # get the current batch players name set\n",
    "            current_batch_players = set()\n",
    "            for m in batch:\n",
    "                current_batch_players.update(m[0])\n",
    "                current_batch_players.update(m[1])\n",
    "            \n",
    "            # collect all insertable match, and save them into the candidate pool\n",
    "            candidate_matches = []\n",
    "            for j, match in enumerate(remaining):\n",
    "                players = set(match[0]) | set(match[1])\n",
    "\n",
    "                # check if players of potential inserting match are in current batch or not\n",
    "                if players & current_batch_players:\n",
    "                    continue\n",
    "                else:\n",
    "                    candidate_matches.append((j, match))\n",
    "            \n",
    "            # if the candidate is not empty, then randomly insert\n",
    "            if candidate_matches:\n",
    "                if monte_carlo:\n",
    "                    selected_index, selected_match = random.choice(candidate_matches)\n",
    "                else:\n",
    "                    # default choose the hightest weight\n",
    "                    selected_index, selected_match = candidate_matches[0]\n",
    "                \n",
    "                batch.append(selected_match)\n",
    "                \n",
    "                players = set(selected_match[0]) | set(selected_match[1])\n",
    "                current_batch_players.update(players)\n",
    "                for p in players:\n",
    "                    player_last_batch[p] = batch_idx\n",
    "                remaining.pop(selected_index)\n",
    "                total_inserted += 1\n",
    "                inserted_this_round = True\n",
    "                break  # break after insertion\n",
    "\n",
    "        if not inserted_this_round:\n",
    "            break  # if there's no insertion, then break\n",
    "\n",
    "    # handle the remaining match, concat at the end\n",
    "    if remaining:\n",
    "        new_batches, remaining = schedule_remaining_simple(remaining, total_court)\n",
    "        batches.extend(new_batches)\n",
    "        total_inserted += sum(len(b) for b in new_batches)\n",
    "\n",
    "    # print(f'insert {total_inserted} matches into schedule')\n",
    "    return batches, remaining, total_inserted"
   ]
  },
  {
   "cell_type": "code",
   "execution_count": 16,
   "id": "e99eb699-8928-4e3a-bfa9-44c8b9b6a835",
   "metadata": {},
   "outputs": [],
   "source": [
    "def schedule_remaining_simple(remaining, total_court):\n",
    "    batches = []\n",
    "    while remaining:\n",
    "        batch = []\n",
    "        players_in_batch = set()\n",
    "        i = 0\n",
    "        while i < len(remaining) and len(batch) < total_court:\n",
    "            match = remaining[i]\n",
    "            players = set(match[0]) | set(match[1])\n",
    "            if not (players & players_in_batch):  # only check current_batch\n",
    "                batch.append(match)\n",
    "                players_in_batch.update(players)\n",
    "                remaining.pop(i)\n",
    "            else:\n",
    "                i += 1\n",
    "        batches.append(batch)\n",
    "    return batches, remaining\n"
   ]
  },
  {
   "cell_type": "code",
   "execution_count": 17,
   "id": "bfe1bc1c-0c58-4cee-86c2-aeca7aa029c9",
   "metadata": {},
   "outputs": [],
   "source": [
    "def annotate_consecutive_players(batches):\n",
    "    prev_batch_players = set()\n",
    "    new_batches = []\n",
    "    for batch in batches:\n",
    "        new_batch = []\n",
    "        current_batch_players = set()\n",
    "        for match in batch:\n",
    "            players = set(match[0]) | set(match[1])\n",
    "            # find consecutive players (if current player plays in this and previous batch)\n",
    "            consecutive_players = [p for p in players if p in prev_batch_players]\n",
    "            marked_match = list(match) + [consecutive_players]\n",
    "            new_batch.append(marked_match)\n",
    "            current_batch_players.update(players)\n",
    "        prev_batch_players = current_batch_players  # update previous batch players\n",
    "        new_batches.append(new_batch)\n",
    "    return new_batches\n"
   ]
  },
  {
   "cell_type": "markdown",
   "id": "c4fa2931-9751-401c-8112-824156a94dd1",
   "metadata": {
    "jp-MarkdownHeadingCollapsed": true
   },
   "source": [
    "### Backtracking Method\n",
    "It'll take too much time for computation. Not suitable for total_courts >= 3"
   ]
  },
  {
   "cell_type": "code",
   "execution_count": 19,
   "id": "a462ee95-639d-4aa0-8777-3f2cbcd43611",
   "metadata": {},
   "outputs": [],
   "source": [
    "# backtracking method\n",
    "def can_batch(batch, prev_batch_players):\n",
    "    players_in_batch = set()\n",
    "    for match in batch:\n",
    "        p1s, p2s = set(match[0]), set(match[1])\n",
    "        if (p1s | p2s) & players_in_batch:\n",
    "            return False\n",
    "        if (p1s | p2s) & prev_batch_players:\n",
    "            return False\n",
    "        players_in_batch.update(p1s)\n",
    "        players_in_batch.update(p2s)\n",
    "    return True\n",
    "\n",
    "def backtracking_scheduler(matches, total_court, batches=None, prev_batch_players=None):\n",
    "    # print('called')\n",
    "    if batches is None:\n",
    "        batches = []\n",
    "    if prev_batch_players is None:\n",
    "        prev_batch_players = set()\n",
    "\n",
    "    if not matches:\n",
    "        return batches  # all matches are scheduled\n",
    "\n",
    "    if len(matches) >= total_court:\n",
    "        for batch in combinations(matches, total_court):\n",
    "            if can_batch(batch, prev_batch_players):\n",
    "                remaining = [m for m in matches if m not in batch]\n",
    "                players_in_batch = set()\n",
    "                for match in batch:\n",
    "                    players_in_batch.update(match[0])\n",
    "                    players_in_batch.update(match[1])\n",
    "                result = backtracking_scheduler(remaining, total_court, batches + [list(batch)], players_in_batch)\n",
    "                if result is not None:\n",
    "                    return result\n",
    "    else:\n",
    "        # last batch, size may not to be fixed\n",
    "        for batch_size in range(len(matches), 0, -1):\n",
    "            for batch in combinations(matches, batch_size):\n",
    "                if can_batch(batch, prev_batch_players):\n",
    "                    remaining = [m for m in matches if m not in batch]\n",
    "                    players_in_batch = set()\n",
    "                    for match in batch:\n",
    "                        players_in_batch.update(match[0])\n",
    "                        players_in_batch.update(match[1])\n",
    "                    result = backtracking_scheduler(remaining, total_court, batches + [list(batch)], players_in_batch)\n",
    "                    if result is not None:\n",
    "                        return result\n",
    "\n",
    "    return None  # match can't be scheduled\n"
   ]
  },
  {
   "cell_type": "markdown",
   "id": "935e7116-0093-4ebe-91ea-f7865b0195af",
   "metadata": {},
   "source": [
    "### Write the outcome into .xlsx file"
   ]
  },
  {
   "cell_type": "code",
   "execution_count": 21,
   "id": "0b67ac47-c5f1-44e1-936e-147a3225c5cd",
   "metadata": {},
   "outputs": [],
   "source": [
    "def write_schedule(batches, total_court, filename):\n",
    "    rows = []\n",
    "    for batch_idx, batch in enumerate(batches, 1):\n",
    "        for match in batch:\n",
    "            consecutive_players = match[5] if len(match) > 5 else []\n",
    "            consecutive_str = \", \".join(consecutive_players) if consecutive_players else \"\"\n",
    "            rows.append({\n",
    "                'Batch': batch_idx,\n",
    "                'Player1s': ' / '.join(match[0]),\n",
    "                'Player2s': ' / '.join(match[1]),\n",
    "                'Category': match[2],\n",
    "                'Flight': match[3],\n",
    "                'Affected_Players': consecutive_str\n",
    "            })\n",
    "        if len(batch) < total_court:\n",
    "            for _ in range(total_court - len(batch)):\n",
    "                rows.append({\n",
    "                    'Batch': batch_idx,\n",
    "                    'Player1s': None,\n",
    "                    'Player2s': None,\n",
    "                    'Category': None,\n",
    "                    'Flight': None,\n",
    "                    'Affected_Players': None\n",
    "                })\n",
    "\n",
    "    df = pd.DataFrame(rows)\n",
    "    df.to_excel(filename, index=False, sheet_name='MatchSchedule')\n",
    "\n",
    "    # use openpyxl to fill color\n",
    "    wb = load_workbook(filename)\n",
    "    ws = wb['MatchSchedule']\n",
    "    fill = PatternFill(start_color=\"FFFF00\", end_color=\"FFFF00\", fill_type=\"solid\")  # yellow\n",
    "\n",
    "    for row in ws.iter_rows(min_row=2, max_row=ws.max_row, min_col=1, max_col=ws.max_column):\n",
    "        consecutive_cell = row[5]\n",
    "        if consecutive_cell.value:\n",
    "            for cell in row:\n",
    "                cell.fill = fill\n",
    "\n",
    "    wb.save(filename)"
   ]
  },
  {
   "cell_type": "markdown",
   "id": "3964a0e5-e3d1-4494-abb5-e65e337036ef",
   "metadata": {
    "jp-MarkdownHeadingCollapsed": true
   },
   "source": [
    "### Print Final Schedule"
   ]
  },
  {
   "cell_type": "code",
   "execution_count": 23,
   "id": "4854f3ad-4ec2-4d68-acae-077b5adab3ef",
   "metadata": {},
   "outputs": [],
   "source": [
    "def print_final_schedule(batches, remaining):\n",
    "    print('='*100)\n",
    "    for batch_idx, batch in enumerate(batches, 1):\n",
    "        for match in batch:\n",
    "            print(f'{batch_idx}\\t{match}')\n",
    "    print('='*100)\n",
    "    print('='*100)\n",
    "    print('these match can not be assigned:')\n",
    "    for r in remaining:\n",
    "        print(r)\n",
    "    print('='*100)"
   ]
  },
  {
   "cell_type": "markdown",
   "id": "40721bff-61f0-410d-915c-3f01f63e2cc6",
   "metadata": {},
   "source": [
    "### The WHOLE PROCESS USING GREEDY ALGORITHM"
   ]
  },
  {
   "cell_type": "code",
   "execution_count": 25,
   "id": "bef391ac-d2bf-41db-a2c9-c1753f89379b",
   "metadata": {},
   "outputs": [],
   "source": [
    "# generate schedule using greedy algorithm\n",
    "def generate_schedule(fname, total_court, output_fname):\n",
    "    f = read_file(fname)\n",
    "    \n",
    "    matches = get_match_info(f)\n",
    "    \n",
    "    # print_sorted_match(matches)\n",
    "    \n",
    "    batches, remaining, total_insert = scheduler(matches, total_court)\n",
    "\n",
    "    batches = annotate_consecutive_players(batches)\n",
    "    \n",
    "    write_schedule(batches, total_court, output_fname)\n",
    "    \n",
    "    print_final_schedule(batches, remaining)"
   ]
  },
  {
   "cell_type": "markdown",
   "id": "a0085a9c-cb5d-4a84-8cd3-704b54226aac",
   "metadata": {
    "jp-MarkdownHeadingCollapsed": true
   },
   "source": [
    "### The WHOLE PROCESS USING BACKTRACKING"
   ]
  },
  {
   "cell_type": "code",
   "execution_count": 27,
   "id": "a5e1e438-7243-40b8-ac0a-dfec0108e7ba",
   "metadata": {},
   "outputs": [],
   "source": [
    "# generating schedule using backtracking(TLE)\n",
    "def generate_schedule_backtracking(fname, total_court):\n",
    "    f = read_file(fname)\n",
    "    matches = get_match_info(f)\n",
    "\n",
    "    schedule = backtracking_scheduler(matches, total_court)\n",
    "    write_schedule(schedule, total_court)\n",
    "    if schedule:\n",
    "        for i, batch in enumerate(schedule):\n",
    "            print(f\"Round {i+1}: {batch}\")\n",
    "    else:\n",
    "        print(\"No feasible schedule found.\")"
   ]
  },
  {
   "cell_type": "markdown",
   "id": "ff57233d-225f-4856-8969-286b558eb7f0",
   "metadata": {
    "jp-MarkdownHeadingCollapsed": true
   },
   "source": [
    "## Define the parameters"
   ]
  },
  {
   "cell_type": "code",
   "execution_count": 29,
   "id": "ac5ffd28-b3d4-486d-bec7-d918f2e6a7ae",
   "metadata": {},
   "outputs": [],
   "source": [
    "# how many courts in the arena\n",
    "total_court = 6\n",
    "file_name = '24FALL_USC_OPEN_TEST.xlsx'\n",
    "output_schedule_file_name = '24Fall_USC_OPEN_schedule.xlsx'"
   ]
  },
  {
   "cell_type": "markdown",
   "id": "f5c222da-db31-412e-a740-224db127de88",
   "metadata": {
    "jp-MarkdownHeadingCollapsed": true
   },
   "source": [
    "## Run Match Schedule Algorithm"
   ]
  },
  {
   "cell_type": "code",
   "execution_count": 31,
   "id": "29629cb4-9d7b-4831-8573-88ee13cb69da",
   "metadata": {},
   "outputs": [
    {
     "name": "stdout",
     "output_type": "stream",
     "text": [
      "====================================================================================================\n",
      "1\t[['Juncheng Tang', 'Yifei Zheng'], ['Manmeeth Nagesh', 'Prathamesh Koranne'], 'MD', 'A', 11.5, []]\n",
      "1\t[['Jason Liu'], ['Haonan Wang'], 'MS', 'A', 10, []]\n",
      "1\t[['Yang Jiao', 'Bernice Tung'], ['Junjie Zhou', 'Elisa Liu'], 'XD', 'A', 6.5, []]\n",
      "1\t[['Ryoto Leegomonchai'], ['Yuhung Kung'], 'MS', 'A', 6, []]\n",
      "1\t[['Haocheng Teng'], ['Avi Aswal'], 'MS', 'A', 6, []]\n",
      "1\t[['Irwin Sunarto', 'Brandon Pham'], ['Zhuoran Cheng', 'Hancheng Li'], 'MD', 'BC', 5.5, []]\n",
      "2\t[['Makenna Wong', 'Meghan Wong'], ['Hanna Yun', 'Cynthia Liu'], 'WD', 'AB', 8, []]\n",
      "2\t[['Haipeng Huang', 'Charles Yang'], ['Stephen Guan', 'Midy Tao'], 'MD', 'BC', 7, []]\n",
      "2\t[['Yantao Fang', 'Siyang Chang'], ['Anais Molinaro', 'Martin Lee'], 'XD', 'BC', 5, []]\n",
      "2\t[['Wenhao Zhang', 'Yingchao Peng'], ['Siyuan Chen', 'Gustavo Adolpho Lucas de Carvalho'], 'MD', 'BC', 4, []]\n",
      "2\t[['Janice Lee'], ['Shiyang Chang'], 'WS', 'B', 2, []]\n",
      "2\t[['Rishi Jain'], ['Gustabo Adolpho Lucas'], 'MS', 'BC', 2, []]\n",
      "2\t[['Heng Wu', 'Aryan Khandekar'], ['Juncheng Tang', 'Yifei Zheng'], 'MD', 'A', 12, ['Juncheng Tang', 'Yifei Zheng']]\n",
      "2\t[['Jason Liu', 'Yuhung Kung'], ['Haonan Wang', 'Avi Aswal'], 'MD', 'A', 10, ['Jason Liu', 'Yuhung Kung', 'Avi Aswal', 'Haonan Wang']]\n",
      "3\t[['Jason Liu', 'Yuhung Kung'], ['Manmeeth Nagesh', 'Prathamesh Koranne'], 'MD', 'A', 18, ['Jason Liu', 'Yuhung Kung']]\n",
      "3\t[['Haonan Wang', 'Avi Aswal'], ['Juncheng Tang', 'Yifei Zheng'], 'MD', 'A', 17, ['Juncheng Tang', 'Haonan Wang', 'Avi Aswal', 'Yifei Zheng']]\n",
      "3\t[['Elisa Liu', 'Reyna Wan'], ['Yen Zhen Tan', 'Sirui Jiang'], 'WD', 'AB', 11, []]\n",
      "3\t[['Irwin Sunarto', 'Brandon Pham'], ['Zhoran Cheng', 'Hancheng Li'], 'MD', 'BC', 7, []]\n",
      "4\t[['Ted Mao', 'Jean Luo'], ['Haipeng Huang', 'Jiayi Shi'], 'XD', 'BC', 4, []]\n",
      "4\t[['Yijun Liu'], ['Makenna Wong'], 'WS', 'B', 2, []]\n",
      "4\t[['Midy Tao'], ['Martin Lee'], 'MS', 'BC', 2, []]\n",
      "4\t[['Stephen Guan'], ['Vincent Onggoputra'], 'MS', 'BC', 2, []]\n",
      "4\t[['Prathamesh Koranne', 'Meghan Wong'], ['Yang Jiao', 'Bernice Tung'], 'XD', 'A', 10, ['Prathamesh Koranne']]\n",
      "4\t[['Junjie Zhou', 'Elisa Liu'], ['Yifei Zheng', 'Reyna Wan'], 'XD', 'A', 9, ['Reyna Wan', 'Elisa Liu', 'Yifei Zheng']]\n",
      "4\t[['Haonan Wang', 'Avi Aswal'], ['Heng Wu', 'Aryan Khandekar'], 'MD', 'A', 8, ['Haonan Wang', 'Avi Aswal']]\n",
      "5\t[['Yifei Zheng', 'Reyna Wan'], ['Prathamesh Koranne', 'Meghan Wong'], 'XD', 'A', 16, ['Meghan Wong', 'Reyna Wan', 'Prathamesh Koranne', 'Yifei Zheng']]\n",
      "5\t[['Heng Wu', 'Aryan Khandekar'], ['Jason Liu', 'Yuhung Kung'], 'MD', 'A', 14, ['Aryan Khandekar', 'Heng Wu']]\n",
      "5\t[['Manmeeth Nagesh'], ['Zain Merchant'], 'MS', 'A', 4, []]\n",
      "5\t[['Zhuoran Cheng', 'Yen Zhen Tan'], ['Irwin Sunarto', 'Chelsea Huang'], 'XD', 'BC', 4, []]\n",
      "5\t[['Shan Zhong', 'Fanghong Huang'], ['Hancheng Li', 'Sirui Jiang'], 'XD', 'BC', 4, []]\n",
      "5\t[['Dominic Pang'], ['Brandon Pham'], 'MS', 'BC', 2, []]\n",
      "6\t[['Manmeeth Nagesh', 'Prathamesh Koranne'], ['Haonan Wang', 'Avi Aswal'], 'MD', 'A', 7, ['Prathamesh Koranne', 'Manmeeth Nagesh']]\n",
      "6\t[['Yifei Zheng', 'Reyna Wan'], ['Yang Jiao', 'Bernice Tung'], 'XD', 'A', 5, ['Reyna Wan', 'Yifei Zheng']]\n",
      "7\t[['Manmeeth Nagesh', 'Prathamesh Koranne'], ['Heng Wu', 'Aryan Khandekar'], 'MD', 'A', 7, ['Prathamesh Koranne', 'Manmeeth Nagesh']]\n",
      "7\t[['Juncheng Tang', 'Yifei Zheng'], ['Jason Liu', 'Yuhung Kung'], 'MD', 'A', 5, ['Yifei Zheng']]\n",
      "8\t[['Junjie Zhou', 'Elisa Liu'], ['Prathamesh Koranne', 'Meghan Wong'], 'XD', 'A', 6, ['Prathamesh Koranne']]\n",
      "====================================================================================================\n",
      "====================================================================================================\n",
      "these match can not be assigned:\n",
      "====================================================================================================\n"
     ]
    }
   ],
   "source": [
    "generate_schedule(file_name, total_court, output_schedule_file_name)\n",
    "# generate_schedule_backtracking(file_name, total_court)"
   ]
  },
  {
   "cell_type": "code",
   "execution_count": null,
   "id": "48ed14f4-3b14-4e5e-8694-057ea54742d3",
   "metadata": {},
   "outputs": [],
   "source": []
  }
 ],
 "metadata": {
  "kernelspec": {
   "display_name": "Python [conda env:ee541_work] *",
   "language": "python",
   "name": "conda-env-ee541_work-py"
  },
  "language_info": {
   "codemirror_mode": {
    "name": "ipython",
    "version": 3
   },
   "file_extension": ".py",
   "mimetype": "text/x-python",
   "name": "python",
   "nbconvert_exporter": "python",
   "pygments_lexer": "ipython3",
   "version": "3.11.9"
  }
 },
 "nbformat": 4,
 "nbformat_minor": 5
}
